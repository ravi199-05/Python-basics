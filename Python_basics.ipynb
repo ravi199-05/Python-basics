{
  "nbformat": 4,
  "nbformat_minor": 0,
  "metadata": {
    "colab": {
      "provenance": []
    },
    "kernelspec": {
      "name": "python3",
      "display_name": "Python 3"
    },
    "language_info": {
      "name": "python"
    }
  },
  "cells": [
    {
      "cell_type": "code",
      "execution_count": null,
      "metadata": {
        "id": "RAhaBj_9pSFe"
      },
      "outputs": [],
      "source": []
    },
    {
      "cell_type": "markdown",
      "source": [
        "#1.what is python, and why is it popular?\n",
        ". Python is a high-level, interpreted programming language that is\n",
        "widely used for various purposes such as web development, scientific computing, data analysis, artificial intelligence, and more.\n",
        "Easy to learn,\n",
        "Versatile,\n",
        "Large community,\n",
        "Cross-platform,\n",
        "Extensive libraries,\n",
        "Fast development,\n",
        "Open-source,\n",
        "Used in industry.\n",
        "\n",
        "#2.What is an interpreter in python ?\n",
        "\n",
        "*  In Python, an interpreter is a program that directly executes Python code, line by line, without compiling it into machine code first.Think of it like a translator.\n",
        "\n",
        "1. I write Python code.\n",
        "2. The interpreter reads my code.\n",
        "3. It translates it into machine code.\n",
        "4. It executes the machine code immediately.\n",
        "\n",
        "#3.What are pre-defined keywords in python ?\n",
        "In Python, predefined keywords are reserved words that have special meanings and cannot be used as variable names.\n",
        "##There are 33 keywords in Python\n",
        "1. and\n",
        "2. as\n",
        "3. assert\n",
        "4. async\n",
        "5. await\n",
        "6. break\n",
        "7. class\n",
        "8. continue\n",
        "9. def\n",
        "10. del\n",
        "11. elif\n",
        "12. else\n",
        "13. except\n",
        "14. False\n",
        "15. finally\n",
        "16. for\n",
        "17. from\n",
        "18. global\n",
        "19. if\n",
        "20. import\n",
        "21. in\n",
        "22. is\n",
        "23. lambda\n",
        "24. nonlocal\n",
        "25. not\n",
        "26. None\n",
        "27. or\n",
        "28. pass\n",
        "29. raise\n",
        "30. return\n",
        "31. True\n",
        "32. try\n",
        "33. while\n",
        "These keywords are used to define the structure and logic of Python programs.\n",
        "\n",
        "#4.Can keywords be used as variable names?\n",
        "No, keywords in Python cannot be used as variable names. Keywords are reserved words and using them as variable names will result in a SyntaxError.\n",
        "\n",
        "#5.What is mutability in python?\n",
        "In Python, mutability refers to the ability of an object to change its value after it's created.Mutable objects can be modified.\n",
        "Examples: lists, dictionaries, sets\n",
        "\n",
        "#6.Why are lists mutable,but tuples are immutable?\n",
        "\n",
        "\n",
        "*   Lists are mutable because they are designed to be dynamic and flexible, allowing elements to be added, removed, or modified.\n",
        "\n",
        "*   Tuples are immutable because they are designed to be static and secure, ensuring that once created, their contents cannot be changed.\n",
        "\n",
        "#7.What is the difference between \"==\" and \"is\" operators in python?\n",
        "\n",
        "## \"==\"operators\n",
        "\"==\" (equality operator) checks if the values of two variables are equal.\n",
        "Example:\n",
        "a = [1, 2, 3]\n",
        "b = [1, 2, 3]\n",
        "\n",
        "a == b  # True (values are equal)\n",
        "a is b  # False (not the same object in memory)\n",
        "\n",
        "## \"is\"operators\n",
        "\"is\" (identity operator) checks if two variables refer to the same object in memory.\n",
        "a = [1, 2, 3]\n",
        "b = a\n",
        "\n",
        "a == b  # True\n",
        "a is b  # True (same object in memory)\n",
        "\n",
        "#8.What is logical operators in python?\n",
        "In Python, logical operators are used to combine conditional statements. The three logical operators are\n",
        "1. and (logical and)\n",
        "2. or (logical or)\n",
        "3. not (logical not)\n",
        "These operators are used to evaluate multiple conditions and return a single Boolean value (True or False).\n",
        "\n",
        "#9.What is type casting in python?\n",
        "Type casting is the process of converting a variable from one data type to another.\n",
        "There are two types of type casting:\n",
        "1. Implicit Type Casting: Python automatically converts the data type.\n",
        "2. Explicit Type Casting: Manual conversion using functions like int(), float(), str(), etc\n",
        "\n",
        "Implicit Type Casting:\n",
        "x = 5  # integer\n",
        "y = 2.5  # float\n",
        "\n",
        "z = x + y  # Implicit type casting (x is converted to float)\n",
        "\n",
        "print(z)\n",
        " # Output: 7.5\n",
        "\n",
        "Explicit Type Casting:\n",
        "x = \"5\"  # string\n",
        "y = int(x)  # Explicit type casting (string to integer)\n",
        "\n",
        "print(y)  # Output: 5\n",
        "\n",
        "#10.What is the difference between implicit and explicit type casting?\n",
        "##Implicit Type Casting:\n",
        "- Automatic conversion by Python\n",
        "- No manual intervention required\n",
        "- Occurs when operands have different data types\n",
        "##Explicit Type Casting:\n",
        "- Manual conversion using functions (int(), float(), str(), etc.)\n",
        "- Developer explicitly converts data type\n",
        "- Required when Python cannot implicitly convert data types.\n",
        "\n",
        "#11.What is the purpose of conditional statement in python?\n",
        "\n",
        "The purpose of conditional statements in Python is to control the flow of a program based on conditions or decisions.\n",
        "1. Evaluate conditions\n",
        "2. Execute specific blocks of code if conditions are true or false\n",
        "3. Make decisions based on input, data, or user interactions\n",
        "Common conditional statements in Python include:\n",
        "1. if\n",
        "2. elif\n",
        "3. else\n",
        "\n",
        "#12.How does the elif statement work?\n",
        "The elif statement in Python is a combination of \"else\" and \"if\". It allows you to check another condition if the initial \"if\" condition is false.\n",
        "if condition1:\n",
        "# code to execute if condition1 is true\n",
        "elif condition2:\n",
        "# code to execute if condition1 is false and condition2 is true\n",
        "else:\n",
        "# code to execute if all conditions are false\n",
        "\n",
        "The elif statement:\n",
        "\n",
        "1. Checks the initial if condition.\n",
        "2. If false, checks the elif condition.\n",
        "3. If the elif condition is true, executes the corresponding code block.\n",
        "\n",
        "#13.What is the difference for and while loops?\n",
        "##For Loop:\n",
        "1. Used to iterate over a sequence (list, tuple, string, etc.)\n",
        "2. Executes a block of code for each item in the sequence\n",
        "3. The number of iterations is determined by the length of the sequence\n",
        "##While Loop:\n",
        "1. Used to execute a block of code as long as a certain condition is true\n",
        "2. Continues to execute until the condition becomes false\n",
        "3. The number of iterations is unknown until the condition is met\n",
        "\n",
        "#14.Describe a scenario where a while loop is more suitable than a for loop?\n",
        ".Suppose you're building a game where a player has to guess a random number between 1 and 100. You want to keep asking the player for their guess until they correctly guess the number.\n",
        "1. You don't know how many attempts the player will need to guess the number.\n",
        "2. You want to keep executing the code (asking for the player's guess) until a certain condition is met (the player guesses the correct number).\n",
        "A while loop would allow you to continue executing the code until the condition is met, whereas a for loop would require you to know the number of iterations in advance.\n",
        "Example code:\n",
        "import random\n",
        "\n",
        "number_to_guess = random.randint(1, 100)\n",
        "guess = None\n",
        "\n",
        "while guess != number_to_guess:\n",
        "    guess = int(input(\"Guess the number: \"))\n",
        "\n",
        "print(\"Congratulations! You guessed the number.\")\n",
        "\n",
        "\n",
        "\n",
        "\n",
        "\n",
        "\n",
        "\n",
        "\n",
        "  \n",
        "\n",
        "\n",
        "  \n",
        "\n",
        "\n",
        "\n",
        "\n",
        "\n",
        "\n"
      ],
      "metadata": {
        "id": "veuvV3-ypUgm"
      }
    },
    {
      "cell_type": "markdown",
      "source": [],
      "metadata": {
        "id": "T6_WsKGGro1I"
      }
    },
    {
      "cell_type": "code",
      "source": [
        "a=\"Hello,World\"\n",
        "print(a)\n"
      ],
      "metadata": {
        "colab": {
          "base_uri": "https://localhost:8080/"
        },
        "id": "QO0zZIwivdD1",
        "outputId": "33b89b8b-5b4d-496c-e9fb-ea094f2e3913"
      },
      "execution_count": null,
      "outputs": [
        {
          "output_type": "stream",
          "name": "stdout",
          "text": [
            "Hello,World\n"
          ]
        }
      ]
    },
    {
      "cell_type": "code",
      "source": [
        "name = \"Ravi singh\"\n",
        "age = 20\n",
        "print(name)\n",
        "print(age)"
      ],
      "metadata": {
        "colab": {
          "base_uri": "https://localhost:8080/"
        },
        "id": "MJFms00tUmkv",
        "outputId": "39913059-420e-41e2-f9ca-e5135a7c8022"
      },
      "execution_count": null,
      "outputs": [
        {
          "output_type": "stream",
          "name": "stdout",
          "text": [
            "Ravi singh\n",
            "20\n"
          ]
        }
      ]
    },
    {
      "cell_type": "code",
      "source": [
        "import keyword\n",
        "keywords = keyword.kwlist\n",
        "print(\"predefined keywords in python are:\")\n",
        "for keyword in keywords:\n",
        "  print(keyword)"
      ],
      "metadata": {
        "colab": {
          "base_uri": "https://localhost:8080/"
        },
        "id": "L13onKe70lIm",
        "outputId": "faba166a-14b4-47c3-87e6-f59a093d00cf"
      },
      "execution_count": null,
      "outputs": [
        {
          "output_type": "stream",
          "name": "stdout",
          "text": [
            "predefined keywords in python are:\n",
            "False\n",
            "None\n",
            "True\n",
            "and\n",
            "as\n",
            "assert\n",
            "async\n",
            "await\n",
            "break\n",
            "class\n",
            "continue\n",
            "def\n",
            "del\n",
            "elif\n",
            "else\n",
            "except\n",
            "finally\n",
            "for\n",
            "from\n",
            "global\n",
            "if\n",
            "import\n",
            "in\n",
            "is\n",
            "lambda\n",
            "nonlocal\n",
            "not\n",
            "or\n",
            "pass\n",
            "raise\n",
            "return\n",
            "try\n",
            "while\n",
            "with\n",
            "yield\n"
          ]
        }
      ]
    },
    {
      "cell_type": "code",
      "source": [
        "import keyword\n",
        "def is_python_keyword(word):\n",
        "    return keyword.iskeyword(word)\n",
        "word = input(\"enter a word:\")\n",
        "if is_python_keyword(word):\n",
        "   print(f\"'{word}' is a python keyword.\")\n",
        "else:\n",
        "   print(f\"'{word}' is not a python keyword.\")\n",
        "\n",
        "\n"
      ],
      "metadata": {
        "colab": {
          "base_uri": "https://localhost:8080/"
        },
        "id": "6jYJaCFH2VQ-",
        "outputId": "3cb5aaf3-b040-4b56-a953-111b31aec85f"
      },
      "execution_count": null,
      "outputs": [
        {
          "output_type": "stream",
          "name": "stdout",
          "text": [
            "enter a word:and\n",
            "'and' is a python keyword.\n"
          ]
        }
      ]
    },
    {
      "cell_type": "code",
      "source": [
        "#create a list\n",
        "my_list = [1, 2, 3.3, 4+5j, \"hello\"]\n",
        "print(my_list)"
      ],
      "metadata": {
        "colab": {
          "base_uri": "https://localhost:8080/"
        },
        "id": "o9grd21f6k5s",
        "outputId": "e1755e5e-fe47-4f18-dc1e-230505135ac3"
      },
      "execution_count": null,
      "outputs": [
        {
          "output_type": "stream",
          "name": "stdout",
          "text": [
            "[1, 2, 3.3, (4+5j), 'hello']\n"
          ]
        }
      ]
    },
    {
      "cell_type": "code",
      "source": [
        "my_list[1] = 8\n",
        "print(my_list)"
      ],
      "metadata": {
        "colab": {
          "base_uri": "https://localhost:8080/"
        },
        "id": "l3UteGXg8CdC",
        "outputId": "00c8aeb4-3ce5-46e6-aee9-a4054eb0823b"
      },
      "execution_count": null,
      "outputs": [
        {
          "output_type": "stream",
          "name": "stdout",
          "text": [
            "[1, 8, 3.3, (4+5j), 'hello']\n"
          ]
        }
      ]
    },
    {
      "cell_type": "code",
      "source": [
        "#creatr a tuple\n",
        "my_tuple = (1, 2, 3.3, 4+5j, \"hello\")\n",
        "print(my_tuple)"
      ],
      "metadata": {
        "colab": {
          "base_uri": "https://localhost:8080/"
        },
        "id": "tNfA99zM8lbV",
        "outputId": "71a92015-b242-47ab-df3f-43319d7e9b01"
      },
      "execution_count": null,
      "outputs": [
        {
          "output_type": "stream",
          "name": "stdout",
          "text": [
            "(1, 2, 3.3, (4+5j), 'hello')\n"
          ]
        }
      ]
    },
    {
      "cell_type": "code",
      "source": [
        "my_tuple[1] = 8\n",
        "print(my_tuple)"
      ],
      "metadata": {
        "colab": {
          "base_uri": "https://localhost:8080/",
          "height": 159
        },
        "id": "nMzoK2LC82XL",
        "outputId": "e9bf6977-c829-42ce-fd2c-41ac30845f75"
      },
      "execution_count": null,
      "outputs": [
        {
          "output_type": "error",
          "ename": "TypeError",
          "evalue": "'tuple' object does not support item assignment",
          "traceback": [
            "\u001b[0;31m---------------------------------------------------------------------------\u001b[0m",
            "\u001b[0;31mTypeError\u001b[0m                                 Traceback (most recent call last)",
            "\u001b[0;32m<ipython-input-14-2970bbd9b740>\u001b[0m in \u001b[0;36m<cell line: 0>\u001b[0;34m()\u001b[0m\n\u001b[0;32m----> 1\u001b[0;31m \u001b[0mmy_tuple\u001b[0m\u001b[0;34m[\u001b[0m\u001b[0;36m1\u001b[0m\u001b[0;34m]\u001b[0m \u001b[0;34m=\u001b[0m \u001b[0;36m8\u001b[0m\u001b[0;34m\u001b[0m\u001b[0;34m\u001b[0m\u001b[0m\n\u001b[0m\u001b[1;32m      2\u001b[0m \u001b[0mprint\u001b[0m\u001b[0;34m(\u001b[0m\u001b[0mmy_tuple\u001b[0m\u001b[0;34m)\u001b[0m\u001b[0;34m\u001b[0m\u001b[0;34m\u001b[0m\u001b[0m\n",
            "\u001b[0;31mTypeError\u001b[0m: 'tuple' object does not support item assignment"
          ]
        }
      ]
    },
    {
      "cell_type": "markdown",
      "source": [
        "We create a list my_list and modify its first element using my_list[1] = 8. This works as expected.\n",
        "We create a tuple my_tuple and attempt to modify its first element using my_tuple[1] = 8. This raises a TypeError because tuples are immutable in Python."
      ],
      "metadata": {
        "id": "kXhnnnNU9NKr"
      }
    },
    {
      "cell_type": "code",
      "source": [
        "a = 5\n",
        "b = 3\n",
        "print(\"logical and:\")\n",
        "if (a > 2 and b > 2):\n",
        "    print(True)\n",
        "else:\n",
        "    print(False)\n"
      ],
      "metadata": {
        "colab": {
          "base_uri": "https://localhost:8080/"
        },
        "id": "-Hg6YGv7-Kx3",
        "outputId": "6cd35c49-d268-4f9d-dd67-b50a328a6ac4"
      },
      "execution_count": null,
      "outputs": [
        {
          "output_type": "stream",
          "name": "stdout",
          "text": [
            "logical and:\n",
            "True\n"
          ]
        }
      ]
    },
    {
      "cell_type": "code",
      "source": [
        "a = 7\n",
        "\n",
        "b = 3\n",
        "print(\"logical OR:\")\n",
        "if (a > 8 or b > 8):\n",
        "    print(True)\n",
        "else:\n",
        "\n",
        "\n",
        "\n",
        "    print(False)\n"
      ],
      "metadata": {
        "colab": {
          "base_uri": "https://localhost:8080/"
        },
        "id": "6EBJX1llaBph",
        "outputId": "2f420452-f072-4d3d-bf1e-c0d7994533c0"
      },
      "execution_count": null,
      "outputs": [
        {
          "output_type": "stream",
          "name": "stdout",
          "text": [
            "logical OR:\n",
            "False\n"
          ]
        }
      ]
    },
    {
      "cell_type": "code",
      "source": [
        "a = 7\n",
        "b = 3\n",
        "print(\"logical NOT:\")\n",
        "if (a < 8 and not b > 8):\n",
        "    print(True)\n",
        "else:\n",
        "\n",
        "\n",
        "    print(False)"
      ],
      "metadata": {
        "colab": {
          "base_uri": "https://localhost:8080/"
        },
        "id": "Sta7N568a5jj",
        "outputId": "7b605822-4bcd-4b6f-8a1d-f7a358fa6892"
      },
      "execution_count": null,
      "outputs": [
        {
          "output_type": "stream",
          "name": "stdout",
          "text": [
            "logical NOT:\n",
            "True\n"
          ]
        }
      ]
    },
    {
      "cell_type": "markdown",
      "source": [],
      "metadata": {
        "id": "2WI1JfspKeHr"
      }
    },
    {
      "cell_type": "code",
      "source": [
        "def convert_to_int(input_str):\n",
        "  try:\n",
        "    return int(input_str)\n",
        "  except ValueError:\n",
        "      return int(25)\n",
        "\n",
        "def convert_to_float(input_str):\n",
        "  try:\n",
        "    return float(input_str)\n",
        "  except ValueError:\n",
        "      return int(2.5)\n",
        "\n",
        "def convert_to_bool(input_str):\n",
        "    if input_str.lower() == \"True\":\n",
        "      return True\n",
        "    elif input_str.lower() == \"False\": # Fixed ondentation for elif\n",
        "      return False\n",
        "    else:\n",
        "      return None # Added a return statement for the else block\n",
        "\n"
      ],
      "metadata": {
        "id": "Hsmkcwe-b9L7"
      },
      "execution_count": null,
      "outputs": []
    },
    {
      "cell_type": "code",
      "source": [
        "my_list = [1, 2.5, \"ravi\", 3+4j, True ]\n",
        "print (my_list)\n"
      ],
      "metadata": {
        "colab": {
          "base_uri": "https://localhost:8080/"
        },
        "id": "LnjjwAQurgDw",
        "outputId": "65a610f0-1f50-4ff7-8997-52f05f88baf4"
      },
      "execution_count": null,
      "outputs": [
        {
          "output_type": "stream",
          "name": "stdout",
          "text": [
            "[1, 2.5, 'ravi', (3+4j), True]\n"
          ]
        }
      ]
    },
    {
      "cell_type": "code",
      "source": [
        "my_list = [1, 2.5, \"ravi\", 3+4j, True ]\n",
        "\n",
        "for i in my_list:\n",
        "  if isinstance(i, int):\n",
        "    int_list = int(i)\n",
        "print(my_list)"
      ],
      "metadata": {
        "colab": {
          "base_uri": "https://localhost:8080/"
        },
        "id": "xp9V4HwQvxdo",
        "outputId": "f46ddd59-805a-4feb-cd1c-c7ba8a51c6ee"
      },
      "execution_count": null,
      "outputs": [
        {
          "output_type": "stream",
          "name": "stdout",
          "text": [
            "[1, 2.5, 'ravi', (3+4j), True]\n"
          ]
        }
      ]
    },
    {
      "cell_type": "code",
      "source": [
        "def check_number(num):\n",
        "  if num > 0:\n",
        "    return \"positive\"\n",
        "  elif num < 0:\n",
        "    return \"negative\"\n",
        "  elif num == 0:\n",
        "    return \"zero\"\n",
        "print(check_number(8))\n",
        "\n"
      ],
      "metadata": {
        "colab": {
          "base_uri": "https://localhost:8080/"
        },
        "id": "t5gXw5twyQYP",
        "outputId": "4e354224-b7b3-4cb1-cdba-dd1be3ec06ab"
      },
      "execution_count": null,
      "outputs": [
        {
          "output_type": "stream",
          "name": "stdout",
          "text": [
            "positive\n"
          ]
        }
      ]
    },
    {
      "cell_type": "code",
      "source": [
        "def check_number(num):\n",
        "  if num > 0:\n",
        "    return \"positive\"\n",
        "  elif num < 0:\n",
        "    return \"negative\"\n",
        "  elif num == 0:\n",
        "    return \"zero\"\n",
        "print(check_number(-8))\n"
      ],
      "metadata": {
        "id": "ffNGe07D0Q3j",
        "outputId": "08f6283d-ff78-4f3a-d7e8-e8178be011d8",
        "colab": {
          "base_uri": "https://localhost:8080/"
        }
      },
      "execution_count": null,
      "outputs": [
        {
          "output_type": "stream",
          "name": "stdout",
          "text": [
            "negative\n"
          ]
        }
      ]
    },
    {
      "cell_type": "code",
      "source": [
        "def check_number(num):\n",
        "  if num > 0:\n",
        "    return \"positive\"\n",
        "  elif num < 0:\n",
        "    return \"negative\"\n",
        "  elif num == 0:\n",
        "    return \"zero\"\n",
        "print(check_number(0))"
      ],
      "metadata": {
        "id": "6_H5hxrU0UG6",
        "outputId": "c32c18e7-c83c-4169-e172-57cf6fe0abdb",
        "colab": {
          "base_uri": "https://localhost:8080/"
        }
      },
      "execution_count": null,
      "outputs": [
        {
          "output_type": "stream",
          "name": "stdout",
          "text": [
            "zero\n"
          ]
        }
      ]
    },
    {
      "cell_type": "code",
      "source": [
        "n = 11\n",
        "i = 1\n",
        "for i in range(1,n):\n",
        "  print (i)\n",
        "  i = i+1\n",
        "  if i == 11:\n",
        "    break\n"
      ],
      "metadata": {
        "id": "-dtJ8DxS_5LB",
        "colab": {
          "base_uri": "https://localhost:8080/"
        },
        "outputId": "2c641247-0b50-4bf1-c7df-798c95725d33"
      },
      "execution_count": null,
      "outputs": [
        {
          "output_type": "stream",
          "name": "stdout",
          "text": [
            "1\n",
            "2\n",
            "3\n",
            "4\n",
            "5\n",
            "6\n",
            "7\n",
            "8\n",
            "9\n",
            "10\n"
          ]
        }
      ]
    },
    {
      "cell_type": "code",
      "source": [
        "def reverse_string(s):\n",
        "  reversed_string = \"\"\n",
        "  i = len(s) - 1\n",
        "  while i >= 0:\n",
        "    reversed_string += s[i]\n",
        "    i -= 1\n",
        "  return reversed_string\n",
        "print(reverse_string(\"ravi singh\"))"
      ],
      "metadata": {
        "colab": {
          "base_uri": "https://localhost:8080/"
        },
        "id": "pDztKp2tv5BZ",
        "outputId": "c6e54b06-4b1d-4195-9ed6-135b77663922"
      },
      "execution_count": null,
      "outputs": [
        {
          "output_type": "stream",
          "name": "stdout",
          "text": [
            "hgnis ivar\n"
          ]
        }
      ]
    },
    {
      "cell_type": "code",
      "source": [
        "def calculate_factorial(n):\n",
        "  factorial = 1\n",
        "  i = 1\n",
        "  while i <= n:\n",
        "    factorial *= i\n",
        "    i += 1\n",
        "  return factorial\n",
        "print(calculate_factorial(5))\n"
      ],
      "metadata": {
        "colab": {
          "base_uri": "https://localhost:8080/"
        },
        "id": "Hdc1Sozgw3Lb",
        "outputId": "05ed383b-2c36-40a0-8b22-b06bf233e230"
      },
      "execution_count": null,
      "outputs": [
        {
          "output_type": "stream",
          "name": "stdout",
          "text": [
            "120\n"
          ]
        }
      ]
    },
    {
      "cell_type": "code",
      "source": [
        "def sum_even_number(start, end):\n",
        "  return sum(i for i in range(start, end + 1)if i % 2 == 0)\n",
        "  start = int(input(\"enter the starting number:\"))\n",
        "  end = int(input(\"enter the ending number:\"))\n",
        "  sum_even_number = sum_even_number(start, end)\n",
        "  print(f\"The sum of even numbers from {start} to {end} is {sum_even_number}\")\n",
        "  start = 1\n",
        "  end = 50\n",
        "  sum_even_number = sum_even_number(start, end)\n",
        "  print(sum_even_number)"
      ],
      "metadata": {
        "id": "3H0Xm62Pyjzd"
      },
      "execution_count": null,
      "outputs": []
    }
  ]
}